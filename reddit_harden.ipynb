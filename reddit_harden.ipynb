{
 "cells": [
  {
   "cell_type": "markdown",
   "metadata": {},
   "source": [
    "## Import Libraries"
   ]
  },
  {
   "cell_type": "code",
   "execution_count": 44,
   "metadata": {},
   "outputs": [
    {
     "name": "stdout",
     "output_type": "stream",
     "text": [
      "Populating the interactive namespace from numpy and matplotlib\n"
     ]
    },
    {
     "name": "stderr",
     "output_type": "stream",
     "text": [
      "/mnt/xarfuse/uid-158183/741aae92-ns-4026531840/IPython/core/magics/pylab.py:160: UserWarning:\n",
      "\n",
      "pylab import has clobbered these variables: ['mod']\n",
      "`%matplotlib` prevents importing * from pylab and numpy\n",
      "\n"
     ]
    }
   ],
   "source": [
    "import pandas as pd\n",
    "import matplotlib.pyplot as plt\n",
    "import seaborn as sns\n",
    "from pandas import Series, DataFrame\n",
    "import statsmodels.api as sm\n",
    "%pylab inline"
   ]
  },
  {
   "cell_type": "markdown",
   "metadata": {},
   "source": [
    "## Import Data"
   ]
  },
  {
   "cell_type": "code",
   "execution_count": 45,
   "metadata": {},
   "outputs": [
    {
     "data": {
      "application/vnd.dataresource+json": {
       "data": [
        {
         "GmSc": 37,
         "GmSc36": 35.2,
         "MP": 37.8,
         "NormalizedGmSc36": 1.26,
         "Num": 52,
         "Opp": "LAL",
         "OppNetRating": -1.7,
         "PerCapita": 1.325,
         "Rating": 3.94,
         "Year": "2018-2019",
         "index": 0
        },
        {
         "GmSc": 26.4,
         "GmSc36": 23.9,
         "MP": 39.8,
         "NormalizedGmSc36": 0.03,
         "Num": 52,
         "Opp": "LAC",
         "OppNetRating": 0.9,
         "PerCapita": 1.325,
         "Rating": 3.94,
         "Year": "2018-2019",
         "index": 1
        },
        {
         "GmSc": 15.1,
         "GmSc36": 16.3,
         "MP": 33.3,
         "NormalizedGmSc36": -0.79,
         "Num": null,
         "Opp": "CHI",
         "OppNetRating": -8.4,
         "PerCapita": null,
         "Rating": 3.95,
         "Year": "2018-2019",
         "index": 2
        },
        {
         "GmSc": 22.4,
         "GmSc36": 23,
         "MP": 35.1,
         "NormalizedGmSc36": -0.07,
         "Num": 20,
         "Opp": "IND",
         "OppNetRating": 3.4,
         "PerCapita": 2.371,
         "Rating": 3.48,
         "Year": "2018-2019",
         "index": 3
        },
        {
         "GmSc": 10.5,
         "GmSc36": 10.1,
         "MP": 37.5,
         "NormalizedGmSc36": -1.46,
         "Num": 12,
         "Opp": "OKC",
         "OppNetRating": 3.3,
         "PerCapita": 1.965,
         "Rating": 3.76,
         "Year": "2018-2019",
         "index": 4
        }
       ],
       "schema": {
        "fields": [
         {
          "name": "index",
          "type": "integer"
         },
         {
          "name": "Year",
          "type": "string"
         },
         {
          "name": "Opp",
          "type": "string"
         },
         {
          "name": "OppNetRating",
          "type": "number"
         },
         {
          "name": "MP",
          "type": "number"
         },
         {
          "name": "GmSc",
          "type": "number"
         },
         {
          "name": "GmSc36",
          "type": "number"
         },
         {
          "name": "NormalizedGmSc36",
          "type": "number"
         },
         {
          "name": "PerCapita",
          "type": "number"
         },
         {
          "name": "Num",
          "type": "number"
         },
         {
          "name": "Rating",
          "type": "number"
         }
        ],
        "pandas_version": "0.20.0",
        "primaryKey": [
         "index"
        ]
       }
      },
      "text/html": [
       "<div>\n",
       "<style scoped>\n",
       "    .dataframe tbody tr th:only-of-type {\n",
       "        vertical-align: middle;\n",
       "    }\n",
       "\n",
       "    .dataframe tbody tr th {\n",
       "        vertical-align: top;\n",
       "    }\n",
       "\n",
       "    .dataframe thead th {\n",
       "        text-align: right;\n",
       "    }\n",
       "</style>\n",
       "<table border=\"1\" class=\"dataframe\">\n",
       "  <thead>\n",
       "    <tr style=\"text-align: right;\">\n",
       "      <th></th>\n",
       "      <th>Year</th>\n",
       "      <th>Opp</th>\n",
       "      <th>OppNetRating</th>\n",
       "      <th>MP</th>\n",
       "      <th>GmSc</th>\n",
       "      <th>GmSc36</th>\n",
       "      <th>NormalizedGmSc36</th>\n",
       "      <th>PerCapita</th>\n",
       "      <th>Num</th>\n",
       "      <th>Rating</th>\n",
       "    </tr>\n",
       "  </thead>\n",
       "  <tbody>\n",
       "    <tr>\n",
       "      <th>0</th>\n",
       "      <td>2018-2019</td>\n",
       "      <td>LAL</td>\n",
       "      <td>-1.7</td>\n",
       "      <td>37.8</td>\n",
       "      <td>37.0</td>\n",
       "      <td>35.2</td>\n",
       "      <td>1.26</td>\n",
       "      <td>1.325</td>\n",
       "      <td>52.0</td>\n",
       "      <td>3.94</td>\n",
       "    </tr>\n",
       "    <tr>\n",
       "      <th>1</th>\n",
       "      <td>2018-2019</td>\n",
       "      <td>LAC</td>\n",
       "      <td>0.9</td>\n",
       "      <td>39.8</td>\n",
       "      <td>26.4</td>\n",
       "      <td>23.9</td>\n",
       "      <td>0.03</td>\n",
       "      <td>1.325</td>\n",
       "      <td>52.0</td>\n",
       "      <td>3.94</td>\n",
       "    </tr>\n",
       "    <tr>\n",
       "      <th>2</th>\n",
       "      <td>2018-2019</td>\n",
       "      <td>CHI</td>\n",
       "      <td>-8.4</td>\n",
       "      <td>33.3</td>\n",
       "      <td>15.1</td>\n",
       "      <td>16.3</td>\n",
       "      <td>-0.79</td>\n",
       "      <td>NaN</td>\n",
       "      <td>NaN</td>\n",
       "      <td>3.95</td>\n",
       "    </tr>\n",
       "    <tr>\n",
       "      <th>3</th>\n",
       "      <td>2018-2019</td>\n",
       "      <td>IND</td>\n",
       "      <td>3.4</td>\n",
       "      <td>35.1</td>\n",
       "      <td>22.4</td>\n",
       "      <td>23.0</td>\n",
       "      <td>-0.07</td>\n",
       "      <td>2.371</td>\n",
       "      <td>20.0</td>\n",
       "      <td>3.48</td>\n",
       "    </tr>\n",
       "    <tr>\n",
       "      <th>4</th>\n",
       "      <td>2018-2019</td>\n",
       "      <td>OKC</td>\n",
       "      <td>3.3</td>\n",
       "      <td>37.5</td>\n",
       "      <td>10.5</td>\n",
       "      <td>10.1</td>\n",
       "      <td>-1.46</td>\n",
       "      <td>1.965</td>\n",
       "      <td>12.0</td>\n",
       "      <td>3.76</td>\n",
       "    </tr>\n",
       "  </tbody>\n",
       "</table>\n",
       "</div>"
      ],
      "text/plain": [
       "        Year  Opp  OppNetRating    MP  GmSc  GmSc36  NormalizedGmSc36  \\\n",
       "0  2018-2019  LAL          -1.7  37.8  37.0    35.2              1.26   \n",
       "1  2018-2019  LAC           0.9  39.8  26.4    23.9              0.03   \n",
       "2  2018-2019  CHI          -8.4  33.3  15.1    16.3             -0.79   \n",
       "3  2018-2019  IND           3.4  35.1  22.4    23.0             -0.07   \n",
       "4  2018-2019  OKC           3.3  37.5  10.5    10.1             -1.46   \n",
       "\n",
       "   PerCapita   Num  Rating  \n",
       "0      1.325  52.0    3.94  \n",
       "1      1.325  52.0    3.94  \n",
       "2        NaN   NaN    3.95  \n",
       "3      2.371  20.0    3.48  \n",
       "4      1.965  12.0    3.76  "
      ]
     },
     "execution_count": 45,
     "metadata": {
      "bento_obj_id": "140053601604048"
     },
     "output_type": "execute_result"
    }
   ],
   "source": [
    "df = pd.read_csv('master.csv')\n",
    "df.head()"
   ]
  },
  {
   "cell_type": "markdown",
   "metadata": {},
   "source": [
    "## Graphs"
   ]
  },
  {
   "cell_type": "code",
   "execution_count": 46,
   "metadata": {},
   "outputs": [
    {
     "data": {
      "text/html": [
       "<table class=\"simpletable\">\n",
       "<caption>OLS Regression Results</caption>\n",
       "<tr>\n",
       "  <th>Dep. Variable:</th>    <td>NormalizedGmSc36</td> <th>  R-squared:         </th> <td>   0.000</td>\n",
       "</tr>\n",
       "<tr>\n",
       "  <th>Model:</th>                   <td>OLS</td>       <th>  Adj. R-squared:    </th> <td>  -0.005</td>\n",
       "</tr>\n",
       "<tr>\n",
       "  <th>Method:</th>             <td>Least Squares</td>  <th>  F-statistic:       </th> <td>0.004929</td>\n",
       "</tr>\n",
       "<tr>\n",
       "  <th>Date:</th>             <td>Thu, 07 Nov 2019</td> <th>  Prob (F-statistic):</th>  <td> 0.944</td> \n",
       "</tr>\n",
       "<tr>\n",
       "  <th>Time:</th>                 <td>17:41:48</td>     <th>  Log-Likelihood:    </th> <td> -272.79</td>\n",
       "</tr>\n",
       "<tr>\n",
       "  <th>No. Observations:</th>      <td>   194</td>      <th>  AIC:               </th> <td>   547.6</td>\n",
       "</tr>\n",
       "<tr>\n",
       "  <th>Df Residuals:</th>          <td>   193</td>      <th>  BIC:               </th> <td>   550.8</td>\n",
       "</tr>\n",
       "<tr>\n",
       "  <th>Df Model:</th>              <td>     1</td>      <th>                     </th>     <td> </td>   \n",
       "</tr>\n",
       "<tr>\n",
       "  <th>Covariance Type:</th>      <td>nonrobust</td>    <th>                     </th>     <td> </td>   \n",
       "</tr>\n",
       "</table>\n",
       "<table class=\"simpletable\">\n",
       "<tr>\n",
       "     <td></td>       <th>coef</th>     <th>std err</th>      <th>t</th>      <th>P>|t|</th>  <th>[0.025</th>    <th>0.975]</th>  \n",
       "</tr>\n",
       "<tr>\n",
       "  <th>Rating</th> <td>   -0.0014</td> <td>    0.019</td> <td>   -0.070</td> <td> 0.944</td> <td>   -0.039</td> <td>    0.037</td>\n",
       "</tr>\n",
       "</table>\n",
       "<table class=\"simpletable\">\n",
       "<tr>\n",
       "  <th>Omnibus:</th>       <td> 4.557</td> <th>  Durbin-Watson:     </th> <td>   2.016</td>\n",
       "</tr>\n",
       "<tr>\n",
       "  <th>Prob(Omnibus):</th> <td> 0.102</td> <th>  Jarque-Bera (JB):  </th> <td>   2.724</td>\n",
       "</tr>\n",
       "<tr>\n",
       "  <th>Skew:</th>          <td> 0.000</td> <th>  Prob(JB):          </th> <td>   0.256</td>\n",
       "</tr>\n",
       "<tr>\n",
       "  <th>Kurtosis:</th>      <td> 2.419</td> <th>  Cond. No.          </th> <td>    1.00</td>\n",
       "</tr>\n",
       "</table><br/><br/>Warnings:<br/>[1] Standard Errors assume that the covariance matrix of the errors is correctly specified."
      ],
      "text/plain": [
       "<class 'statsmodels.iolib.summary.Summary'>\n",
       "\"\"\"\n",
       "                            OLS Regression Results                            \n",
       "==============================================================================\n",
       "Dep. Variable:       NormalizedGmSc36   R-squared:                       0.000\n",
       "Model:                            OLS   Adj. R-squared:                 -0.005\n",
       "Method:                 Least Squares   F-statistic:                  0.004929\n",
       "Date:                Thu, 07 Nov 2019   Prob (F-statistic):              0.944\n",
       "Time:                        17:41:48   Log-Likelihood:                -272.79\n",
       "No. Observations:                 194   AIC:                             547.6\n",
       "Df Residuals:                     193   BIC:                             550.8\n",
       "Df Model:                           1                                         \n",
       "Covariance Type:            nonrobust                                         \n",
       "==============================================================================\n",
       "                 coef    std err          t      P>|t|      [0.025      0.975]\n",
       "------------------------------------------------------------------------------\n",
       "Rating        -0.0014      0.019     -0.070      0.944      -0.039       0.037\n",
       "==============================================================================\n",
       "Omnibus:                        4.557   Durbin-Watson:                   2.016\n",
       "Prob(Omnibus):                  0.102   Jarque-Bera (JB):                2.724\n",
       "Skew:                           0.000   Prob(JB):                        0.256\n",
       "Kurtosis:                       2.419   Cond. No.                         1.00\n",
       "==============================================================================\n",
       "\n",
       "Warnings:\n",
       "[1] Standard Errors assume that the covariance matrix of the errors is correctly specified.\n",
       "\"\"\""
      ]
     },
     "execution_count": 46,
     "metadata": {
      "bento_obj_id": "140053561729744"
     },
     "output_type": "execute_result"
    },
    {
     "data": {
      "image/png": "[encoded data removed]",
      "text/plain": [
       "<Figure size 576x360 with 1 Axes>"
      ]
     },
     "metadata": {
      "bento_obj_id": "140053575722768"
     },
     "output_type": "display_data"
    }
   ],
   "source": [
    "sns.set()\n",
    "\n",
    "fig, ax = plt.subplots()\n",
    "fig.set_size_inches(8, 5)\n",
    "\n",
    "sns.regplot(x = 'Rating', y = 'NormalizedGmSc36', data = df)\n",
    "plt.title('Normalized Game Score/36 vs. Avg Strip Club Rating', fontweight = 'bold').set_position([.5, 1.07])\n",
    "plt.xlabel('Avg Strip Club Rating')\n",
    "plt.ylabel('Normalized Game Score/36')\n",
    "\n",
    "plt.savefig('rating.png', bbox_inches = 'tight', dpi = 150)\n",
    "\n",
    "sm.OLS(df['NormalizedGmSc36'], df['Rating']).fit().summary()"
   ]
  },
  {
   "cell_type": "code",
   "execution_count": 47,
   "metadata": {},
   "outputs": [
    {
     "data": {
      "text/html": [
       "<table class=\"simpletable\">\n",
       "<caption>OLS Regression Results</caption>\n",
       "<tr>\n",
       "  <th>Dep. Variable:</th>    <td>NormalizedGmSc36</td> <th>  R-squared:         </th> <td>   0.007</td>\n",
       "</tr>\n",
       "<tr>\n",
       "  <th>Model:</th>                   <td>OLS</td>       <th>  Adj. R-squared:    </th> <td>  -0.001</td>\n",
       "</tr>\n",
       "<tr>\n",
       "  <th>Method:</th>             <td>Least Squares</td>  <th>  F-statistic:       </th> <td>  0.8924</td>\n",
       "</tr>\n",
       "<tr>\n",
       "  <th>Date:</th>             <td>Thu, 07 Nov 2019</td> <th>  Prob (F-statistic):</th>  <td> 0.347</td> \n",
       "</tr>\n",
       "<tr>\n",
       "  <th>Time:</th>                 <td>17:41:49</td>     <th>  Log-Likelihood:    </th> <td> -169.48</td>\n",
       "</tr>\n",
       "<tr>\n",
       "  <th>No. Observations:</th>      <td>   124</td>      <th>  AIC:               </th> <td>   341.0</td>\n",
       "</tr>\n",
       "<tr>\n",
       "  <th>Df Residuals:</th>          <td>   123</td>      <th>  BIC:               </th> <td>   343.8</td>\n",
       "</tr>\n",
       "<tr>\n",
       "  <th>Df Model:</th>              <td>     1</td>      <th>                     </th>     <td> </td>   \n",
       "</tr>\n",
       "<tr>\n",
       "  <th>Covariance Type:</th>      <td>nonrobust</td>    <th>                     </th>     <td> </td>   \n",
       "</tr>\n",
       "</table>\n",
       "<table class=\"simpletable\">\n",
       "<tr>\n",
       "      <td></td>         <th>coef</th>     <th>std err</th>      <th>t</th>      <th>P>|t|</th>  <th>[0.025</th>    <th>0.975]</th>  \n",
       "</tr>\n",
       "<tr>\n",
       "  <th>PerCapita</th> <td>    0.0200</td> <td>    0.021</td> <td>    0.945</td> <td> 0.347</td> <td>   -0.022</td> <td>    0.062</td>\n",
       "</tr>\n",
       "</table>\n",
       "<table class=\"simpletable\">\n",
       "<tr>\n",
       "  <th>Omnibus:</th>       <td> 2.061</td> <th>  Durbin-Watson:     </th> <td>   1.898</td>\n",
       "</tr>\n",
       "<tr>\n",
       "  <th>Prob(Omnibus):</th> <td> 0.357</td> <th>  Jarque-Bera (JB):  </th> <td>   1.601</td>\n",
       "</tr>\n",
       "<tr>\n",
       "  <th>Skew:</th>          <td>-0.094</td> <th>  Prob(JB):          </th> <td>   0.449</td>\n",
       "</tr>\n",
       "<tr>\n",
       "  <th>Kurtosis:</th>      <td> 2.476</td> <th>  Cond. No.          </th> <td>    1.00</td>\n",
       "</tr>\n",
       "</table><br/><br/>Warnings:<br/>[1] Standard Errors assume that the covariance matrix of the errors is correctly specified."
      ],
      "text/plain": [
       "<class 'statsmodels.iolib.summary.Summary'>\n",
       "\"\"\"\n",
       "                            OLS Regression Results                            \n",
       "==============================================================================\n",
       "Dep. Variable:       NormalizedGmSc36   R-squared:                       0.007\n",
       "Model:                            OLS   Adj. R-squared:                 -0.001\n",
       "Method:                 Least Squares   F-statistic:                    0.8924\n",
       "Date:                Thu, 07 Nov 2019   Prob (F-statistic):              0.347\n",
       "Time:                        17:41:49   Log-Likelihood:                -169.48\n",
       "No. Observations:                 124   AIC:                             341.0\n",
       "Df Residuals:                     123   BIC:                             343.8\n",
       "Df Model:                           1                                         \n",
       "Covariance Type:            nonrobust                                         \n",
       "==============================================================================\n",
       "                 coef    std err          t      P>|t|      [0.025      0.975]\n",
       "------------------------------------------------------------------------------\n",
       "PerCapita      0.0200      0.021      0.945      0.347      -0.022       0.062\n",
       "==============================================================================\n",
       "Omnibus:                        2.061   Durbin-Watson:                   1.898\n",
       "Prob(Omnibus):                  0.357   Jarque-Bera (JB):                1.601\n",
       "Skew:                          -0.094   Prob(JB):                        0.449\n",
       "Kurtosis:                       2.476   Cond. No.                         1.00\n",
       "==============================================================================\n",
       "\n",
       "Warnings:\n",
       "[1] Standard Errors assume that the covariance matrix of the errors is correctly specified.\n",
       "\"\"\""
      ]
     },
     "execution_count": 47,
     "metadata": {
      "bento_obj_id": "140053574922064"
     },
     "output_type": "execute_result"
    },
    {
     "data": {
      "image/png": "[encoded data removed]",
      "text/plain": [
       "<Figure size 576x360 with 1 Axes>"
      ]
     },
     "metadata": {
      "bento_obj_id": "140053561645200"
     },
     "output_type": "display_data"
    }
   ],
   "source": [
    "sns.set()\n",
    "\n",
    "fig, ax = plt.subplots()\n",
    "fig.set_size_inches(8, 5)\n",
    "\n",
    "plot_df = df[df['PerCapita'] > 0]\n",
    "\n",
    "sns.regplot(x = 'PerCapita', y = 'NormalizedGmSc36', data = plot_df)\n",
    "plt.title('Normalized Game Score/36 vs. Strip Clubs Per Capita', fontweight = 'bold').set_position([.5, 1.07])\n",
    "plt.xlabel('Strip Clubs Per Capita')\n",
    "plt.ylabel('Normalized Game Score/36')\n",
    "\n",
    "plt.savefig('capita.png', bbox_inches = 'tight', dpi = 150)\n",
    "\n",
    "sm.OLS(plot_df['NormalizedGmSc36'], plot_df['PerCapita']).fit().summary()"
   ]
  },
  {
   "cell_type": "code",
   "execution_count": 48,
   "metadata": {},
   "outputs": [
    {
     "data": {
      "text/html": [
       "<table class=\"simpletable\">\n",
       "<caption>OLS Regression Results</caption>\n",
       "<tr>\n",
       "  <th>Dep. Variable:</th>    <td>NormalizedGmSc36</td> <th>  R-squared:         </th> <td>   0.010</td>\n",
       "</tr>\n",
       "<tr>\n",
       "  <th>Model:</th>                   <td>OLS</td>       <th>  Adj. R-squared:    </th> <td>   0.002</td>\n",
       "</tr>\n",
       "<tr>\n",
       "  <th>Method:</th>             <td>Least Squares</td>  <th>  F-statistic:       </th> <td>   1.239</td>\n",
       "</tr>\n",
       "<tr>\n",
       "  <th>Date:</th>             <td>Thu, 07 Nov 2019</td> <th>  Prob (F-statistic):</th>  <td> 0.268</td> \n",
       "</tr>\n",
       "<tr>\n",
       "  <th>Time:</th>                 <td>17:41:49</td>     <th>  Log-Likelihood:    </th> <td> -169.30</td>\n",
       "</tr>\n",
       "<tr>\n",
       "  <th>No. Observations:</th>      <td>   124</td>      <th>  AIC:               </th> <td>   340.6</td>\n",
       "</tr>\n",
       "<tr>\n",
       "  <th>Df Residuals:</th>          <td>   123</td>      <th>  BIC:               </th> <td>   343.4</td>\n",
       "</tr>\n",
       "<tr>\n",
       "  <th>Df Model:</th>              <td>     1</td>      <th>                     </th>     <td> </td>   \n",
       "</tr>\n",
       "<tr>\n",
       "  <th>Covariance Type:</th>      <td>nonrobust</td>    <th>                     </th>     <td> </td>   \n",
       "</tr>\n",
       "</table>\n",
       "<table class=\"simpletable\">\n",
       "<tr>\n",
       "   <td></td>      <th>coef</th>     <th>std err</th>      <th>t</th>      <th>P>|t|</th>  <th>[0.025</th>    <th>0.975]</th>  \n",
       "</tr>\n",
       "<tr>\n",
       "  <th>Num</th> <td>    0.0031</td> <td>    0.003</td> <td>    1.113</td> <td> 0.268</td> <td>   -0.002</td> <td>    0.009</td>\n",
       "</tr>\n",
       "</table>\n",
       "<table class=\"simpletable\">\n",
       "<tr>\n",
       "  <th>Omnibus:</th>       <td> 2.297</td> <th>  Durbin-Watson:     </th> <td>   1.919</td>\n",
       "</tr>\n",
       "<tr>\n",
       "  <th>Prob(Omnibus):</th> <td> 0.317</td> <th>  Jarque-Bera (JB):  </th> <td>   1.774</td>\n",
       "</tr>\n",
       "<tr>\n",
       "  <th>Skew:</th>          <td>-0.123</td> <th>  Prob(JB):          </th> <td>   0.412</td>\n",
       "</tr>\n",
       "<tr>\n",
       "  <th>Kurtosis:</th>      <td> 2.468</td> <th>  Cond. No.          </th> <td>    1.00</td>\n",
       "</tr>\n",
       "</table><br/><br/>Warnings:<br/>[1] Standard Errors assume that the covariance matrix of the errors is correctly specified."
      ],
      "text/plain": [
       "<class 'statsmodels.iolib.summary.Summary'>\n",
       "\"\"\"\n",
       "                            OLS Regression Results                            \n",
       "==============================================================================\n",
       "Dep. Variable:       NormalizedGmSc36   R-squared:                       0.010\n",
       "Model:                            OLS   Adj. R-squared:                  0.002\n",
       "Method:                 Least Squares   F-statistic:                     1.239\n",
       "Date:                Thu, 07 Nov 2019   Prob (F-statistic):              0.268\n",
       "Time:                        17:41:49   Log-Likelihood:                -169.30\n",
       "No. Observations:                 124   AIC:                             340.6\n",
       "Df Residuals:                     123   BIC:                             343.4\n",
       "Df Model:                           1                                         \n",
       "Covariance Type:            nonrobust                                         \n",
       "==============================================================================\n",
       "                 coef    std err          t      P>|t|      [0.025      0.975]\n",
       "------------------------------------------------------------------------------\n",
       "Num            0.0031      0.003      1.113      0.268      -0.002       0.009\n",
       "==============================================================================\n",
       "Omnibus:                        2.297   Durbin-Watson:                   1.919\n",
       "Prob(Omnibus):                  0.317   Jarque-Bera (JB):                1.774\n",
       "Skew:                          -0.123   Prob(JB):                        0.412\n",
       "Kurtosis:                       2.468   Cond. No.                         1.00\n",
       "==============================================================================\n",
       "\n",
       "Warnings:\n",
       "[1] Standard Errors assume that the covariance matrix of the errors is correctly specified.\n",
       "\"\"\""
      ]
     },
     "execution_count": 48,
     "metadata": {
      "bento_obj_id": "140053560946384"
     },
     "output_type": "execute_result"
    },
    {
     "data": {
      "image/png": "[encoded data removed]",
      "text/plain": [
       "<Figure size 576x360 with 1 Axes>"
      ]
     },
     "metadata": {
      "bento_obj_id": "140053561046096"
     },
     "output_type": "display_data"
    }
   ],
   "source": [
    "sns.set()\n",
    "\n",
    "fig, ax = plt.subplots()\n",
    "fig.set_size_inches(8, 5)\n",
    "\n",
    "plot_df = df[df['Num'] > 0]\n",
    "\n",
    "sns.regplot(x = 'Num', y = 'NormalizedGmSc36', data = plot_df)\n",
    "plt.title('Normalized Game Score/36 vs. Total Strip Clubs', fontweight = 'bold').set_position([.5, 1.07])\n",
    "plt.xlabel('Total Strip Clubs')\n",
    "plt.ylabel('Normalized Game Score/36')\n",
    "\n",
    "plt.savefig('num.png', bbox_inches = 'tight', dpi = 150)\n",
    "\n",
    "sm.OLS(plot_df['NormalizedGmSc36'], plot_df['Num']).fit().summary()"
   ]
  },
  {
   "cell_type": "code",
   "execution_count": 49,
   "metadata": {},
   "outputs": [
    {
     "data": {
      "text/html": [
       "<table class=\"simpletable\">\n",
       "<caption>OLS Regression Results</caption>\n",
       "<tr>\n",
       "  <th>Dep. Variable:</th>    <td>NormalizedGmSc36</td> <th>  R-squared:         </th> <td>   0.034</td>\n",
       "</tr>\n",
       "<tr>\n",
       "  <th>Model:</th>                   <td>OLS</td>       <th>  Adj. R-squared:    </th> <td>   0.024</td>\n",
       "</tr>\n",
       "<tr>\n",
       "  <th>Method:</th>             <td>Least Squares</td>  <th>  F-statistic:       </th> <td>   3.378</td>\n",
       "</tr>\n",
       "<tr>\n",
       "  <th>Date:</th>             <td>Thu, 07 Nov 2019</td> <th>  Prob (F-statistic):</th>  <td>0.0362</td> \n",
       "</tr>\n",
       "<tr>\n",
       "  <th>Time:</th>                 <td>17:41:49</td>     <th>  Log-Likelihood:    </th> <td> -269.44</td>\n",
       "</tr>\n",
       "<tr>\n",
       "  <th>No. Observations:</th>      <td>   194</td>      <th>  AIC:               </th> <td>   542.9</td>\n",
       "</tr>\n",
       "<tr>\n",
       "  <th>Df Residuals:</th>          <td>   192</td>      <th>  BIC:               </th> <td>   549.4</td>\n",
       "</tr>\n",
       "<tr>\n",
       "  <th>Df Model:</th>              <td>     2</td>      <th>                     </th>     <td> </td>   \n",
       "</tr>\n",
       "<tr>\n",
       "  <th>Covariance Type:</th>      <td>nonrobust</td>    <th>                     </th>     <td> </td>   \n",
       "</tr>\n",
       "</table>\n",
       "<table class=\"simpletable\">\n",
       "<tr>\n",
       "        <td></td>          <th>coef</th>     <th>std err</th>      <th>t</th>      <th>P>|t|</th>  <th>[0.025</th>    <th>0.975]</th>  \n",
       "</tr>\n",
       "<tr>\n",
       "  <th>OppNetRating</th> <td>   -0.0384</td> <td>    0.015</td> <td>   -2.598</td> <td> 0.010</td> <td>   -0.067</td> <td>   -0.009</td>\n",
       "</tr>\n",
       "<tr>\n",
       "  <th>Rating</th>       <td>   -0.0006</td> <td>    0.019</td> <td>   -0.034</td> <td> 0.973</td> <td>   -0.038</td> <td>    0.037</td>\n",
       "</tr>\n",
       "</table>\n",
       "<table class=\"simpletable\">\n",
       "<tr>\n",
       "  <th>Omnibus:</th>       <td> 4.180</td> <th>  Durbin-Watson:     </th> <td>   2.047</td>\n",
       "</tr>\n",
       "<tr>\n",
       "  <th>Prob(Omnibus):</th> <td> 0.124</td> <th>  Jarque-Bera (JB):  </th> <td>   2.611</td>\n",
       "</tr>\n",
       "<tr>\n",
       "  <th>Skew:</th>          <td>-0.043</td> <th>  Prob(JB):          </th> <td>   0.271</td>\n",
       "</tr>\n",
       "<tr>\n",
       "  <th>Kurtosis:</th>      <td> 2.438</td> <th>  Cond. No.          </th> <td>    1.29</td>\n",
       "</tr>\n",
       "</table><br/><br/>Warnings:<br/>[1] Standard Errors assume that the covariance matrix of the errors is correctly specified."
      ],
      "text/plain": [
       "<class 'statsmodels.iolib.summary.Summary'>\n",
       "\"\"\"\n",
       "                            OLS Regression Results                            \n",
       "==============================================================================\n",
       "Dep. Variable:       NormalizedGmSc36   R-squared:                       0.034\n",
       "Model:                            OLS   Adj. R-squared:                  0.024\n",
       "Method:                 Least Squares   F-statistic:                     3.378\n",
       "Date:                Thu, 07 Nov 2019   Prob (F-statistic):             0.0362\n",
       "Time:                        17:41:49   Log-Likelihood:                -269.44\n",
       "No. Observations:                 194   AIC:                             542.9\n",
       "Df Residuals:                     192   BIC:                             549.4\n",
       "Df Model:                           2                                         \n",
       "Covariance Type:            nonrobust                                         \n",
       "================================================================================\n",
       "                   coef    std err          t      P>|t|      [0.025      0.975]\n",
       "--------------------------------------------------------------------------------\n",
       "OppNetRating    -0.0384      0.015     -2.598      0.010      -0.067      -0.009\n",
       "Rating          -0.0006      0.019     -0.034      0.973      -0.038       0.037\n",
       "==============================================================================\n",
       "Omnibus:                        4.180   Durbin-Watson:                   2.047\n",
       "Prob(Omnibus):                  0.124   Jarque-Bera (JB):                2.611\n",
       "Skew:                          -0.043   Prob(JB):                        0.271\n",
       "Kurtosis:                       2.438   Cond. No.                         1.29\n",
       "==============================================================================\n",
       "\n",
       "Warnings:\n",
       "[1] Standard Errors assume that the covariance matrix of the errors is correctly specified.\n",
       "\"\"\""
      ]
     },
     "execution_count": 49,
     "metadata": {
      "bento_obj_id": "140053561539472"
     },
     "output_type": "execute_result"
    }
   ],
   "source": [
    "sm.OLS(df['NormalizedGmSc36'], df[['OppNetRating', 'Rating']]).fit().summary()"
   ]
  }
 ],
 "metadata": {
  "bento_stylesheets": {
   "bento/extensions/flow/main.css": true,
   "bento/extensions/kernel_selector/main.css": true,
   "bento/extensions/kernel_ui/main.css": true,
   "bento/extensions/new_kernel/main.css": true,
   "bento/extensions/system_usage/main.css": true,
   "bento/extensions/theme/main.css": true
  },
  "kernelspec": {
   "display_name": "Python 3",
   "language": "python",
   "name": "bento_kernel_default"
  },
  "language_info": {
   "codemirror_mode": {
    "name": "ipython",
    "version": 3
   },
   "file_extension": ".py",
   "mimetype": "text/x-python",
   "name": "python",
   "nbconvert_exporter": "python",
   "pygments_lexer": "ipython3",
   "version": "3.7.5+"
  }
 },
 "nbformat": 4,
 "nbformat_minor": 2
}
